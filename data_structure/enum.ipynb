{
 "cells": [
  {
   "cell_type": "markdown",
   "metadata": {},
   "source": [
    "## Creating Enumerations"
   ]
  },
  {
   "cell_type": "markdown",
   "metadata": {},
   "source": [
    "A new enumeration is defined using the class syntax by subclassing Enum and adding class attributes describing the values"
   ]
  },
  {
   "cell_type": "code",
   "execution_count": 1,
   "metadata": {
    "collapsed": true
   },
   "outputs": [],
   "source": [
    "import enum"
   ]
  },
  {
   "cell_type": "code",
   "execution_count": 21,
   "metadata": {
    "collapsed": true
   },
   "outputs": [],
   "source": [
    "class BugStatus(enum.Enum):\n",
    "    new = 7\n",
    "    incomplete = 6\n",
    "    invalid = 5\n",
    "    wont_fix = 4\n",
    "    in_progress = 3\n",
    "    fix_committed = 2\n",
    "    fix_released = 1"
   ]
  },
  {
   "cell_type": "code",
   "execution_count": 3,
   "metadata": {
    "collapsed": false
   },
   "outputs": [
    {
     "name": "stdout",
     "output_type": "stream",
     "text": [
      "member name: wont_fix\n",
      "member value: 4\n"
     ]
    }
   ],
   "source": [
    "print(\"member name: {}\".format(BugStatus.wont_fix.name))\n",
    "print(\"member value: {}\".format(BugStatus.wont_fix.value))"
   ]
  },
  {
   "cell_type": "markdown",
   "metadata": {},
   "source": [
    "## Access to enumeration members and their attributes"
   ]
  },
  {
   "cell_type": "code",
   "execution_count": 22,
   "metadata": {
    "collapsed": false
   },
   "outputs": [
    {
     "data": {
      "text/plain": [
       "<BugStatus.new: 7>"
      ]
     },
     "execution_count": 22,
     "metadata": {},
     "output_type": "execute_result"
    }
   ],
   "source": [
    "BugStatus(7)"
   ]
  },
  {
   "cell_type": "code",
   "execution_count": 23,
   "metadata": {
    "collapsed": true
   },
   "outputs": [],
   "source": [
    "# if you want access enum members by name, use item access"
   ]
  },
  {
   "cell_type": "code",
   "execution_count": null,
   "metadata": {
    "collapsed": true
   },
   "outputs": [],
   "source": [
    "BugStatus['']"
   ]
  },
  {
   "cell_type": "markdown",
   "metadata": {},
   "source": [
    "##  Iteration"
   ]
  },
  {
   "cell_type": "markdown",
   "metadata": {},
   "source": [
    "Iterating over the enum class pruduces the indivisual members of the member"
   ]
  },
  {
   "cell_type": "code",
   "execution_count": 4,
   "metadata": {
    "collapsed": false
   },
   "outputs": [
    {
     "name": "stdout",
     "output_type": "stream",
     "text": [
      "new:7\n",
      "incomplete:6\n",
      "invalid:5\n",
      "wont_fix:4\n",
      "in_progress:3\n",
      "fix_committed:2\n",
      "fix_released:1\n"
     ]
    }
   ],
   "source": [
    "for status in BugStatus:\n",
    "    print(\"{}:{}\".format(status.name, status.value))"
   ]
  },
  {
   "cell_type": "markdown",
   "metadata": {},
   "source": [
    "**Note**:\n",
    "The members are produced in the order they are declared in the class definition. The names and values are not used to sort them."
   ]
  },
  {
   "cell_type": "markdown",
   "metadata": {},
   "source": [
    "## Comparing Enums"
   ]
  },
  {
   "cell_type": "markdown",
   "metadata": {},
   "source": [
    "Because enumeration members are not ordered. They only support equality and identify test"
   ]
  },
  {
   "cell_type": "code",
   "execution_count": 5,
   "metadata": {
    "collapsed": false
   },
   "outputs": [
    {
     "name": "stdout",
     "output_type": "stream",
     "text": [
      "Equality: False True\n",
      "Identity: False True\n",
      "Ordered by value:\n",
      "  Cannot sort: '<' not supported between instances of 'BugStatus' and 'BugStatus'\n"
     ]
    }
   ],
   "source": [
    "actual_state = BugStatus.wont_fix\n",
    "desired_state = BugStatus.fix_released\n",
    "\n",
    "print('Equality:',\n",
    "      actual_state == desired_state,\n",
    "      actual_state == BugStatus.wont_fix)\n",
    "print('Identity:',\n",
    "      actual_state is desired_state,\n",
    "      actual_state is BugStatus.wont_fix)\n",
    "print('Ordered by value:')\n",
    "try:\n",
    "    print('\\n'.join('  ' + s.name for s in sorted(BugStatus)))\n",
    "except TypeError as err:\n",
    "    print('  Cannot sort: {}'.format(err))"
   ]
  },
  {
   "cell_type": "markdown",
   "metadata": {},
   "source": [
    "### IntEnum\n",
    "\n",
    "use the `IntEnum` class for enumrations where the members need to behave more like numbers, for example, to support comparisons"
   ]
  },
  {
   "cell_type": "code",
   "execution_count": 7,
   "metadata": {
    "collapsed": true
   },
   "outputs": [],
   "source": [
    "class BugStatusInt(enum.IntEnum):\n",
    "\n",
    "    new = 7\n",
    "    incomplete = 6\n",
    "    invalid = 5\n",
    "    wont_fix = 4\n",
    "    in_progress = 3\n",
    "    fix_committed = 2\n",
    "    fix_released = 1"
   ]
  },
  {
   "cell_type": "code",
   "execution_count": 9,
   "metadata": {
    "collapsed": false
   },
   "outputs": [
    {
     "name": "stdout",
     "output_type": "stream",
     "text": [
      "Equality: False True\n",
      "Identity: False True\n",
      "comparison: \n",
      "new is bigger then invalid: True\n",
      "Ordered by value:\n",
      "  fix_released\n",
      "  fix_committed\n",
      "  in_progress\n",
      "  wont_fix\n",
      "  invalid\n",
      "  incomplete\n",
      "  new\n"
     ]
    }
   ],
   "source": [
    "actual_state = BugStatusInt.wont_fix\n",
    "desired_state = BugStatusInt.fix_released\n",
    "\n",
    "print('Equality:',\n",
    "      actual_state == desired_state,\n",
    "      actual_state == BugStatusInt.wont_fix)\n",
    "print('Identity:',\n",
    "      actual_state is desired_state,\n",
    "      actual_state is BugStatusInt.wont_fix)\n",
    "\n",
    "print(\"comparison: \")\n",
    "print(\"new is bigger then invalid:\", BugStatusInt.new > BugStatusInt.invalid)\n",
    "\n",
    "print('Ordered by value:')\n",
    "print('\\n'.join('  ' + s.name for s in sorted(BugStatusInt)))\n"
   ]
  },
  {
   "cell_type": "markdown",
   "metadata": {},
   "source": [
    "## Unique Enumeration Values"
   ]
  },
  {
   "cell_type": "markdown",
   "metadata": {},
   "source": [
    "Enum members with the same value are tracked as alias references to the same member object. Aliases do not cause repeated values to be present in the iterator for the Enum"
   ]
  },
  {
   "cell_type": "code",
   "execution_count": 12,
   "metadata": {
    "collapsed": false
   },
   "outputs": [
    {
     "name": "stdout",
     "output_type": "stream",
     "text": [
      "new             = 7\n",
      "incomplete      = 6\n",
      "invalid         = 5\n",
      "wont_fix        = 4\n",
      "in_progress     = 3\n",
      "fix_committed   = 2\n",
      "fix_released    = 1\n",
      "\n",
      "Same: by_design is wont_fix:  True\n",
      "Same: closed is fix_released:  True\n"
     ]
    }
   ],
   "source": [
    "class BugStatusUnique(enum.Enum):\n",
    "\n",
    "    new = 7\n",
    "    incomplete = 6\n",
    "    invalid = 5\n",
    "    wont_fix = 4\n",
    "    in_progress = 3\n",
    "    fix_committed = 2\n",
    "    fix_released = 1\n",
    "\n",
    "    by_design = 4\n",
    "    closed = 1\n",
    "\n",
    "\n",
    "for status in BugStatusUnique:\n",
    "    print('{:15} = {}'.format(status.name, status.value))\n",
    "\n",
    "print('\\nSame: by_design is wont_fix: ',\n",
    "      BugStatusUnique.by_design is BugStatusUnique.wont_fix)\n",
    "print('Same: closed is fix_released: ',\n",
    "      BugStatusUnique.closed is BugStatusUnique.fix_released)"
   ]
  },
  {
   "cell_type": "markdown",
   "metadata": {},
   "source": [
    "**To require all members to have unique values, add the decorator**"
   ]
  },
  {
   "cell_type": "code",
   "execution_count": 13,
   "metadata": {
    "collapsed": false
   },
   "outputs": [
    {
     "ename": "ValueError",
     "evalue": "duplicate values found in <enum 'BugStatusUniqueDecorator'>: by_design -> wont_fix, closed -> fix_released",
     "output_type": "error",
     "traceback": [
      "\u001b[1;31m---------------------------------------------------------------------------\u001b[0m",
      "\u001b[1;31mValueError\u001b[0m                                Traceback (most recent call last)",
      "\u001b[1;32m<ipython-input-13-c066ce8ca39c>\u001b[0m in \u001b[0;36m<module>\u001b[1;34m()\u001b[0m\n\u001b[0;32m      1\u001b[0m \u001b[1;33m@\u001b[0m\u001b[0menum\u001b[0m\u001b[1;33m.\u001b[0m\u001b[0munique\u001b[0m\u001b[1;33m\u001b[0m\u001b[0m\n\u001b[1;32m----> 2\u001b[1;33m \u001b[1;32mclass\u001b[0m \u001b[0mBugStatusUniqueDecorator\u001b[0m\u001b[1;33m(\u001b[0m\u001b[0menum\u001b[0m\u001b[1;33m.\u001b[0m\u001b[0mEnum\u001b[0m\u001b[1;33m)\u001b[0m\u001b[1;33m:\u001b[0m\u001b[1;33m\u001b[0m\u001b[0m\n\u001b[0m\u001b[0;32m      3\u001b[0m \u001b[1;33m\u001b[0m\u001b[0m\n\u001b[0;32m      4\u001b[0m     \u001b[0mnew\u001b[0m \u001b[1;33m=\u001b[0m \u001b[1;36m7\u001b[0m\u001b[1;33m\u001b[0m\u001b[0m\n\u001b[0;32m      5\u001b[0m     \u001b[0mincomplete\u001b[0m \u001b[1;33m=\u001b[0m \u001b[1;36m6\u001b[0m\u001b[1;33m\u001b[0m\u001b[0m\n",
      "\u001b[1;32m~\\AppData\\Local\\Continuum\\Anaconda3\\lib\\enum.py\u001b[0m in \u001b[0;36munique\u001b[1;34m(enumeration)\u001b[0m\n\u001b[0;32m    828\u001b[0m                 [\"%s -> %s\" % (alias, name) for (alias, name) in duplicates])\n\u001b[0;32m    829\u001b[0m         raise ValueError('duplicate values found in %r: %s' %\n\u001b[1;32m--> 830\u001b[1;33m                 (enumeration, alias_details))\n\u001b[0m\u001b[0;32m    831\u001b[0m     \u001b[1;32mreturn\u001b[0m \u001b[0menumeration\u001b[0m\u001b[1;33m\u001b[0m\u001b[0m\n\u001b[0;32m    832\u001b[0m \u001b[1;33m\u001b[0m\u001b[0m\n",
      "\u001b[1;31mValueError\u001b[0m: duplicate values found in <enum 'BugStatusUniqueDecorator'>: by_design -> wont_fix, closed -> fix_released"
     ]
    }
   ],
   "source": [
    "@enum.unique\n",
    "class BugStatusUniqueDecorator(enum.Enum):\n",
    "\n",
    "    new = 7\n",
    "    incomplete = 6\n",
    "    invalid = 5\n",
    "    wont_fix = 4\n",
    "    in_progress = 3\n",
    "    fix_committed = 2\n",
    "    fix_released = 1\n",
    "\n",
    "    # This will trigger an error with unique applied.\n",
    "    by_design = 4\n",
    "    closed = 1"
   ]
  },
  {
   "cell_type": "markdown",
   "metadata": {},
   "source": [
    "Members with repeated values trigger a `ValueError` exception when the `Enum` class being interpreted"
   ]
  },
  {
   "cell_type": "markdown",
   "metadata": {},
   "source": [
    "## Create Enumerations Programmatically"
   ]
  },
  {
   "cell_type": "code",
   "execution_count": 14,
   "metadata": {
    "collapsed": false
   },
   "outputs": [
    {
     "name": "stdout",
     "output_type": "stream",
     "text": [
      "Member: BugStatus.new\n",
      "\n",
      "All members:\n",
      "fix_released    = 1\n",
      "fix_committed   = 2\n",
      "in_progress     = 3\n",
      "wont_fix        = 4\n",
      "invalid         = 5\n",
      "incomplete      = 6\n",
      "new             = 7\n"
     ]
    }
   ],
   "source": [
    "BugStatus = enum.Enum(\n",
    "    value='BugStatus',\n",
    "    names=('fix_released fix_committed in_progress '\n",
    "           'wont_fix invalid incomplete new'),\n",
    ")\n",
    "\n",
    "print('Member: {}'.format(BugStatus.new))\n",
    "\n",
    "print('\\nAll members:')\n",
    "for status in BugStatus:\n",
    "    print('{:15} = {}'.format(status.name, status.value))"
   ]
  },
  {
   "cell_type": "markdown",
   "metadata": {},
   "source": [
    "value: the name of the enumration\n",
    "names: lists the member of the enumeration, if a string is passed. it is split on the whitespace and commas. the value to names is starting with 1"
   ]
  },
  {
   "cell_type": "markdown",
   "metadata": {},
   "source": [
    "If you want control the value associated with members, the names string can be replaced with a sequence of 2 part tuples or a dictionary mapping names to values"
   ]
  },
  {
   "cell_type": "code",
   "execution_count": 15,
   "metadata": {
    "collapsed": false
   },
   "outputs": [
    {
     "name": "stdout",
     "output_type": "stream",
     "text": [
      "All members:\n",
      "new             = 7\n",
      "incomplete      = 6\n",
      "invalid         = 5\n",
      "wont_fix        = 4\n",
      "in_progress     = 3\n",
      "fix_committed   = 2\n",
      "fix_released    = 1\n"
     ]
    }
   ],
   "source": [
    "\n",
    "BugStatus = enum.Enum(\n",
    "    value='BugStatus',\n",
    "    names=[\n",
    "        ('new', 7),\n",
    "        ('incomplete', 6),\n",
    "        ('invalid', 5),\n",
    "        ('wont_fix', 4),\n",
    "        ('in_progress', 3),\n",
    "        ('fix_committed', 2),\n",
    "        ('fix_released', 1),\n",
    "    ],\n",
    ")\n",
    "\n",
    "print('All members:')\n",
    "for status in BugStatus:\n",
    "    print('{:15} = {}'.format(status.name, status.value))"
   ]
  },
  {
   "cell_type": "markdown",
   "metadata": {},
   "source": [
    "## Non-integer Member Values"
   ]
  },
  {
   "cell_type": "markdown",
   "metadata": {},
   "source": [
    "Enum member values are not restricted to integers. In fact, any type of object can be associated with a member. If the value is a tuple, the members are passed as individual arguments to __init__()."
   ]
  },
  {
   "cell_type": "code",
   "execution_count": 16,
   "metadata": {
    "collapsed": false
   },
   "outputs": [
    {
     "name": "stdout",
     "output_type": "stream",
     "text": [
      "Name: BugStatus.in_progress\n",
      "Value: (3, ['new', 'fix_committed'])\n",
      "Custom attribute: ['new', 'fix_committed']\n",
      "Using attribute: True\n"
     ]
    }
   ],
   "source": [
    "\n",
    "class BugStatus(enum.Enum):\n",
    "\n",
    "    new = (7, ['incomplete',\n",
    "               'invalid',\n",
    "               'wont_fix',\n",
    "               'in_progress'])\n",
    "    incomplete = (6, ['new', 'wont_fix'])\n",
    "    invalid = (5, ['new'])\n",
    "    wont_fix = (4, ['new'])\n",
    "    in_progress = (3, ['new', 'fix_committed'])\n",
    "    fix_committed = (2, ['in_progress', 'fix_released'])\n",
    "    fix_released = (1, ['new'])\n",
    "\n",
    "    def __init__(self, num, transitions):\n",
    "        self.num = num\n",
    "        self.transitions = transitions\n",
    "\n",
    "    def can_transition(self, new_state):\n",
    "        return new_state.name in self.transitions\n",
    "\n",
    "\n",
    "print('Name:', BugStatus.in_progress)\n",
    "print('Value:', BugStatus.in_progress.value)\n",
    "print('Custom attribute:', BugStatus.in_progress.transitions)\n",
    "print('Using attribute:',\n",
    "      BugStatus.in_progress.can_transition(BugStatus.new))"
   ]
  },
  {
   "cell_type": "code",
   "execution_count": 20,
   "metadata": {
    "collapsed": false,
    "scrolled": true
   },
   "outputs": [
    {
     "data": {
      "text/plain": [
       "['incomplete', 'invalid', 'wont_fix', 'in_progress']"
      ]
     },
     "execution_count": 20,
     "metadata": {},
     "output_type": "execute_result"
    }
   ],
   "source": [
    "BugStatus.new.transitions"
   ]
  },
  {
   "cell_type": "code",
   "execution_count": null,
   "metadata": {
    "collapsed": true
   },
   "outputs": [],
   "source": []
  }
 ],
 "metadata": {
  "kernelspec": {
   "display_name": "Python 3",
   "language": "python",
   "name": "python3"
  },
  "language_info": {
   "codemirror_mode": {
    "name": "ipython",
    "version": 3
   },
   "file_extension": ".py",
   "mimetype": "text/x-python",
   "name": "python",
   "nbconvert_exporter": "python",
   "pygments_lexer": "ipython3",
   "version": "3.6.0"
  }
 },
 "nbformat": 4,
 "nbformat_minor": 2
}
