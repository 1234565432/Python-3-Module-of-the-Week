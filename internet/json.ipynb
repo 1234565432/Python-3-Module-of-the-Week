{
 "cells": [
  {
   "cell_type": "code",
   "execution_count": 1,
   "metadata": {
    "collapsed": true
   },
   "outputs": [],
   "source": [
    "import json"
   ]
  },
  {
   "cell_type": "markdown",
   "metadata": {},
   "source": [
    "## Encoding and Decoding Simple Data Types"
   ]
  },
  {
   "cell_type": "code",
   "execution_count": 2,
   "metadata": {
    "collapsed": false
   },
   "outputs": [
    {
     "name": "stdout",
     "output_type": "stream",
     "text": [
      "DATA: [{'a': 'A', 'b': (2, 4), 'c': 3.0}]\n",
      "JSON: [{\"a\": \"A\", \"b\": [2, 4], \"c\": 3.0}]\n"
     ]
    }
   ],
   "source": [
    "data = [{'a': 'A', 'b': (2, 4), 'c': 3.0}]\n",
    "print('DATA:', repr(data))\n",
    "\n",
    "data_string = json.dumps(data)\n",
    "print('JSON:', data_string)"
   ]
  },
  {
   "cell_type": "code",
   "execution_count": 3,
   "metadata": {
    "collapsed": false
   },
   "outputs": [
    {
     "name": "stdout",
     "output_type": "stream",
     "text": [
      "<class 'str'>\n"
     ]
    }
   ],
   "source": [
    "print(type(data_string))"
   ]
  },
  {
   "cell_type": "markdown",
   "metadata": {},
   "source": [
    "Encoding, then re-decoding may not give exactly the same type of object"
   ]
  },
  {
   "cell_type": "code",
   "execution_count": 5,
   "metadata": {
    "collapsed": false
   },
   "outputs": [
    {
     "name": "stdout",
     "output_type": "stream",
     "text": [
      "DATA   : [{'a': 'A', 'b': (2, 4), 'c': 3.0}]\n",
      "ENCODED: [{\"a\": \"A\", \"b\": [2, 4], \"c\": 3.0}]\n",
      "DECODED: [{'a': 'A', 'b': [2, 4], 'c': 3.0}]\n",
      "ORIGINAL: <class 'tuple'>\n",
      "DECODED : <class 'list'>\n"
     ]
    }
   ],
   "source": [
    "data = [{'a': 'A', 'b': (2, 4), 'c': 3.0}]\n",
    "print('DATA   :', data)\n",
    "\n",
    "data_string = json.dumps(data)\n",
    "print('ENCODED:', data_string)\n",
    "\n",
    "decoded = json.loads(data_string)\n",
    "print('DECODED:', decoded)\n",
    "\n",
    "print('ORIGINAL:', type(data[0]['b']))\n",
    "print('DECODED :', type(decoded[0]['b']))"
   ]
  },
  {
   "cell_type": "markdown",
   "metadata": {},
   "source": [
    "you can see that, **tuple become list**"
   ]
  },
  {
   "cell_type": "markdown",
   "metadata": {},
   "source": [
    "## Human-consumable vs. Compact Output"
   ]
  },
  {
   "cell_type": "markdown",
   "metadata": {},
   "source": [
    "### you can sort output"
   ]
  },
  {
   "cell_type": "code",
   "execution_count": 10,
   "metadata": {
    "collapsed": false
   },
   "outputs": [
    {
     "name": "stdout",
     "output_type": "stream",
     "text": [
      "DATA: [{'a': 'A', 'c': 3.0, 'b': (2, 4)}]\n",
      "JSON: [{\"a\": \"A\", \"c\": 3.0, \"b\": [2, 4]}]\n",
      "SORT: [{\"a\": \"A\", \"b\": [2, 4], \"c\": 3.0}]\n",
      "UNSORTED MATCH: True\n",
      "SORTED MATCH  : False\n"
     ]
    }
   ],
   "source": [
    "import json\n",
    "\n",
    "data = [{'a': 'A', 'c': 3.0, 'b': (2, 4)}]\n",
    "print('DATA:', repr(data))\n",
    "\n",
    "unsorted = json.dumps(data)\n",
    "print('JSON:', unsorted)\n",
    "print('SORT:', json.dumps(data, sort_keys=True))\n",
    "\n",
    "first = json.dumps(data, sort_keys=False)\n",
    "second = json.dumps(data, sort_keys=True)\n",
    "\n",
    "print('UNSORTED MATCH:', unsorted == first)\n",
    "print('SORTED MATCH  :', first == second)"
   ]
  },
  {
   "cell_type": "markdown",
   "metadata": {},
   "source": [
    "### You can specify a value for `indent`, so the output is formatted"
   ]
  },
  {
   "cell_type": "code",
   "execution_count": 11,
   "metadata": {
    "collapsed": false
   },
   "outputs": [
    {
     "name": "stdout",
     "output_type": "stream",
     "text": [
      "DATA: [{'a': 'A', 'b': (2, 4), 'c': 3.0}]\n",
      "NORMAL: [{\"a\": \"A\", \"b\": [2, 4], \"c\": 3.0}]\n",
      "INDENT: [\n",
      "  {\n",
      "    \"a\": \"A\",\n",
      "    \"b\": [\n",
      "      2,\n",
      "      4\n",
      "    ],\n",
      "    \"c\": 3.0\n",
      "  }\n",
      "]\n"
     ]
    }
   ],
   "source": [
    "data = [{'a': 'A', 'b': (2, 4), 'c': 3.0}]\n",
    "print('DATA:', repr(data))\n",
    "\n",
    "print('NORMAL:', json.dumps(data, sort_keys=True))\n",
    "print('INDENT:', json.dumps(data, sort_keys=True, indent=2))"
   ]
  },
  {
   "cell_type": "markdown",
   "metadata": {},
   "source": [
    "### Make it more compact"
   ]
  },
  {
   "cell_type": "code",
   "execution_count": 12,
   "metadata": {
    "collapsed": false
   },
   "outputs": [
    {
     "name": "stdout",
     "output_type": "stream",
     "text": [
      "DATA: [{'a': 'A', 'b': (2, 4), 'c': 3.0}]\n",
      "repr(data)             : 35\n",
      "dumps(data)            : 35\n",
      "dumps(data, indent=2)  : 73\n",
      "dumps(data, separators): 29\n"
     ]
    }
   ],
   "source": [
    "data = [{'a': 'A', 'b': (2, 4), 'c': 3.0}]\n",
    "print('DATA:', repr(data))\n",
    "\n",
    "print('repr(data)             :', len(repr(data)))\n",
    "\n",
    "plain_dump = json.dumps(data)\n",
    "print('dumps(data)            :', len(plain_dump))\n",
    "\n",
    "small_indent = json.dumps(data, indent=2)\n",
    "print('dumps(data, indent=2)  :', len(small_indent))\n",
    "\n",
    "with_separators = json.dumps(data, separators=(',', ':'))\n",
    "print('dumps(data, separators):', len(with_separators))"
   ]
  },
  {
   "cell_type": "markdown",
   "metadata": {},
   "source": [
    "The separators argument to dumps() should be a tuple containing the strings to separate items in a list and keys from values in a dictionary. The default is (', ', ': '). By removing the whitespace, a more compact output is produced"
   ]
  },
  {
   "cell_type": "markdown",
   "metadata": {},
   "source": [
    "## Encoding Dictonaries"
   ]
  },
  {
   "cell_type": "markdown",
   "metadata": {},
   "source": [
    "The JSON format expect the key to a dictionary to be string. Trying to encode a dictionary with non-string types as keys produces a TypeError. One way to work around that limitation is to tell the encoder to skip over non-string kyes using the `skipkeys` argument\n"
   ]
  },
  {
   "cell_type": "code",
   "execution_count": 17,
   "metadata": {
    "collapsed": false
   },
   "outputs": [
    {
     "name": "stdout",
     "output_type": "stream",
     "text": [
      "First attempt\n",
      "ERROR: keys must be a string\n",
      "\n",
      "Second attempt\n",
      "[{\"a\": \"A\", \"b\": [2, 4], \"c\": 3.0}]\n"
     ]
    }
   ],
   "source": [
    "import json\n",
    "\n",
    "data = [{'a': 'A', 'b': (2, 4), 'c': 3.0, ('d',): 'D tuple'}]\n",
    "\n",
    "print('First attempt')\n",
    "try:\n",
    "    print(json.dumps(data))\n",
    "except TypeError as err:\n",
    "    print('ERROR:', err)\n",
    "\n",
    "print()\n",
    "print('Second attempt')\n",
    "print(json.dumps(data, skipkeys=True))"
   ]
  },
  {
   "cell_type": "markdown",
   "metadata": {},
   "source": [
    "## Working with custom Types"
   ]
  },
  {
   "cell_type": "markdown",
   "metadata": {},
   "source": [
    "### Convert to known type"
   ]
  },
  {
   "cell_type": "code",
   "execution_count": 18,
   "metadata": {
    "collapsed": true
   },
   "outputs": [],
   "source": [
    "class MyObj:\n",
    "\n",
    "    def __init__(self, s):\n",
    "        self.s = s\n",
    "\n",
    "    def __repr__(self):\n",
    "        return '<MyObj({})>'.format(self.s)"
   ]
  },
  {
   "cell_type": "code",
   "execution_count": 19,
   "metadata": {
    "collapsed": false
   },
   "outputs": [
    {
     "name": "stdout",
     "output_type": "stream",
     "text": [
      "First attempt\n",
      "ERROR: Object of type 'MyObj' is not JSON serializable\n",
      "\n",
      "With default\n",
      "default( <MyObj(instance value goes here)> )\n",
      "{\"__class__\": \"MyObj\", \"__module__\": \"__main__\", \"s\": \"instance value goes here\"}\n"
     ]
    }
   ],
   "source": [
    "\n",
    "obj = MyObj('instance value goes here')\n",
    "\n",
    "print('First attempt')\n",
    "try:\n",
    "    print(json.dumps(obj))\n",
    "except TypeError as err:\n",
    "    print('ERROR:', err)\n",
    "\n",
    "\n",
    "def convert_to_builtin_type(obj):\n",
    "    print('default(', repr(obj), ')')\n",
    "    # Convert objects to a dictionary of their representation\n",
    "    d = {\n",
    "        '__class__': obj.__class__.__name__,\n",
    "        '__module__': obj.__module__,\n",
    "    }\n",
    "    d.update(obj.__dict__)\n",
    "    return d\n",
    "\n",
    "\n",
    "print()\n",
    "print('With default')\n",
    "print(json.dumps(obj, default=convert_to_builtin_type))"
   ]
  },
  {
   "cell_type": "markdown",
   "metadata": {},
   "source": [
    "`convert_to_buitin_type` convert the MyObj class instance into a dictionary which JSON can endode"
   ]
  },
  {
   "cell_type": "markdown",
   "metadata": {},
   "source": [
    "To decode the results and create a MyObj() instance, use the object_hook argument to loads() to tie in to the decoder so the class can be imported from the module and used to create the instance."
   ]
  },
  {
   "cell_type": "code",
   "execution_count": 33,
   "metadata": {
    "collapsed": false
   },
   "outputs": [
    {
     "name": "stdout",
     "output_type": "stream",
     "text": [
      "MODULE: __main__\n",
      "CLASS: <class '__main__.MyObj'>\n",
      "INSTANCE ARGS: {'s': 'instance value goes here'}\n",
      "[<MyObj(instance value goes here)>]\n"
     ]
    }
   ],
   "source": [
    "def dict_to_object(d):\n",
    "    if '__class__' in d:\n",
    "        class_name = d.pop('__class__')\n",
    "        module_name = d.pop('__module__')\n",
    "        module = __import__(module_name)\n",
    "        print('MODULE:', module.__name__)\n",
    "        class_ = getattr(module, class_name)\n",
    "        print('CLASS:', class_)\n",
    "        args = {\n",
    "            key: value\n",
    "            for key, value in d.items()\n",
    "        }\n",
    "        print('INSTANCE ARGS:', args)\n",
    "        inst = class_(**args)\n",
    "    else:\n",
    "        inst = d\n",
    "    return inst\n",
    "\n",
    "\n",
    "encoded_object = '''\n",
    "    [{\"s\": \"instance value goes here\",\n",
    "      \"__module__\": \"__main__\", \"__class__\": \"MyObj\"}]\n",
    "    '''\n",
    "\n",
    "myobj_instance = json.loads(\n",
    "    encoded_object,\n",
    "    object_hook=dict_to_object,\n",
    ")\n",
    "print(myobj_instance)"
   ]
  },
  {
   "cell_type": "markdown",
   "metadata": {},
   "source": [
    "## Encoder and Decoder Classes"
   ]
  },
  {
   "cell_type": "markdown",
   "metadata": {},
   "source": [
    "Besides the convenience functions already covered, the json module provides classes for encoding and decoding. Using the classes directly gives access to extra APIs for customizing their behavior.\n",
    "\n",
    "The JSONEncoder uses an iterable interface for producing “chunks” of encoded data, making it easier to write to files or network sockets without having to represent an entire data structure in memory."
   ]
  },
  {
   "cell_type": "code",
   "execution_count": 34,
   "metadata": {
    "collapsed": false
   },
   "outputs": [
    {
     "name": "stdout",
     "output_type": "stream",
     "text": [
      "PART: [\n",
      "PART: {\n",
      "PART: \"a\"\n",
      "PART: : \n",
      "PART: \"A\"\n",
      "PART: , \n",
      "PART: \"b\"\n",
      "PART: : \n",
      "PART: [2\n",
      "PART: , 4\n",
      "PART: ]\n",
      "PART: , \n",
      "PART: \"c\"\n",
      "PART: : \n",
      "PART: 3.0\n",
      "PART: }\n",
      "PART: ]\n"
     ]
    }
   ],
   "source": [
    "encoder = json.JSONEncoder()\n",
    "data = [{'a': 'A', 'b': (2, 4), 'c': 3.0}]\n",
    "\n",
    "for part in encoder.iterencode(data):\n",
    "    print('PART:', part)"
   ]
  },
  {
   "cell_type": "markdown",
   "metadata": {},
   "source": [
    "To encode arbitrary objects, override the default() method with an implementation similar to the one used in convert_to_builtin_type()."
   ]
  },
  {
   "cell_type": "code",
   "execution_count": 37,
   "metadata": {
    "collapsed": false
   },
   "outputs": [
    {
     "name": "stdout",
     "output_type": "stream",
     "text": [
      "<MyObj(internal data)>\n",
      "default( <MyObj(internal data)> )\n",
      "{\"__class__\": \"MyObj\", \"__module__\": \"__main__\", \"s\": \"internal data\"}\n"
     ]
    }
   ],
   "source": [
    "class MyEncoder(json.JSONEncoder):\n",
    "\n",
    "    def default(self, obj):\n",
    "        print('default(', repr(obj), ')')\n",
    "        # Convert objects to a dictionary of their representation\n",
    "        d = {\n",
    "            '__class__': obj.__class__.__name__,\n",
    "            '__module__': obj.__module__,\n",
    "        }\n",
    "        d.update(obj.__dict__)\n",
    "        return d\n",
    "    \n",
    "obj = MyObj('internal data')\n",
    "print(obj)\n",
    "print(MyEncoder().encode(obj))"
   ]
  },
  {
   "cell_type": "markdown",
   "metadata": {},
   "source": [
    "Decoding:"
   ]
  },
  {
   "cell_type": "code",
   "execution_count": 39,
   "metadata": {
    "collapsed": false
   },
   "outputs": [
    {
     "name": "stdout",
     "output_type": "stream",
     "text": [
      "MODULE: __main__\n",
      "CLASS: <class '__main__.MyObj'>\n",
      "INSTANCE ARGS: {'s': 'instance value goes here'}\n",
      "[<MyObj(instance value goes here)>]\n"
     ]
    }
   ],
   "source": [
    "class MyDecoder(json.JSONDecoder):\n",
    "\n",
    "    def __init__(self):\n",
    "        json.JSONDecoder.__init__(\n",
    "            self,\n",
    "            object_hook=self.dict_to_object,\n",
    "        )\n",
    "\n",
    "    def dict_to_object(self, d):\n",
    "        if '__class__' in d:\n",
    "            class_name = d.pop('__class__')\n",
    "            module_name = d.pop('__module__')\n",
    "            module = __import__(module_name)\n",
    "            print('MODULE:', module.__name__)\n",
    "            class_ = getattr(module, class_name)\n",
    "            print('CLASS:', class_)\n",
    "            args = {\n",
    "                key: value\n",
    "                for key, value in d.items()\n",
    "            }\n",
    "            print('INSTANCE ARGS:', args)\n",
    "            inst = class_(**args)\n",
    "        else:\n",
    "            inst = d\n",
    "        return inst\n",
    "\n",
    "\n",
    "encoded_object = '''\n",
    "[{\"s\": \"instance value goes here\",\n",
    "  \"__module__\": \"__main__\", \"__class__\": \"MyObj\"}]\n",
    "'''\n",
    "\n",
    "myobj_instance = MyDecoder().decode(encoded_object)\n",
    "print(myobj_instance)"
   ]
  },
  {
   "cell_type": "markdown",
   "metadata": {},
   "source": [
    "## Working with Streams and Files"
   ]
  },
  {
   "cell_type": "markdown",
   "metadata": {},
   "source": [
    "All of the examples so far have assumed that the encoded version of the entire data structure could be held in memory at one time. With large data structures, it may be preferable to write the encoding directly to a file-like object. The convenience functions load() and dump() accept references to a file-like object to use for reading or writing"
   ]
  },
  {
   "cell_type": "code",
   "execution_count": 40,
   "metadata": {
    "collapsed": true
   },
   "outputs": [],
   "source": [
    "import io"
   ]
  },
  {
   "cell_type": "code",
   "execution_count": 41,
   "metadata": {
    "collapsed": false
   },
   "outputs": [
    {
     "name": "stdout",
     "output_type": "stream",
     "text": [
      "[{\"a\": \"A\", \"b\": [2, 4], \"c\": 3.0}]\n"
     ]
    }
   ],
   "source": [
    "data = [{'a': 'A', 'b': (2, 4), 'c': 3.0}]\n",
    "\n",
    "f = io.StringIO()\n",
    "json.dump(data, f)\n",
    "\n",
    "print(f.getvalue())"
   ]
  },
  {
   "cell_type": "markdown",
   "metadata": {},
   "source": [
    "## Mixed Data Streams"
   ]
  },
  {
   "cell_type": "markdown",
   "metadata": {},
   "source": [
    "JSONDecoder includes raw_decode(), a method for decoding a data structure followed by more data, such as JSON data with trailing text. The return value is the object created by decoding the input data, and an index into that data indicating where decoding left off."
   ]
  },
  {
   "cell_type": "code",
   "execution_count": 42,
   "metadata": {
    "collapsed": false
   },
   "outputs": [
    {
     "name": "stdout",
     "output_type": "stream",
     "text": [
      "JSON first:\n",
      "Object              : [{'a': 'A', 'c': 3.0, 'b': [2, 4]}]\n",
      "End of parsed input : 35\n",
      "Remaining text      : ' This text is not JSON.'\n",
      "\n",
      "JSON embedded:\n",
      "ERROR: Expecting value: line 1 column 1 (char 0)\n"
     ]
    }
   ],
   "source": [
    "decoder = json.JSONDecoder()\n",
    "\n",
    "\n",
    "def get_decoded_and_remainder(input_data):\n",
    "    obj, end = decoder.raw_decode(input_data)\n",
    "    remaining = input_data[end:]\n",
    "    return (obj, end, remaining)\n",
    "\n",
    "\n",
    "encoded_object = '[{\"a\": \"A\", \"c\": 3.0, \"b\": [2, 4]}]'\n",
    "extra_text = 'This text is not JSON.'\n",
    "\n",
    "print('JSON first:')\n",
    "data = ' '.join([encoded_object, extra_text])\n",
    "obj, end, remaining = get_decoded_and_remainder(data)\n",
    "\n",
    "print('Object              :', obj)\n",
    "print('End of parsed input :', end)\n",
    "print('Remaining text      :', repr(remaining))\n",
    "\n",
    "print()\n",
    "print('JSON embedded:')\n",
    "try:\n",
    "    data = ' '.join([extra_text, encoded_object, extra_text])\n",
    "    obj, end, remaining = get_decoded_and_remainder(data)\n",
    "except ValueError as err:\n",
    "    print('ERROR:', err)"
   ]
  },
  {
   "cell_type": "markdown",
   "metadata": {},
   "source": [
    "Unfortunately, this only works if the object appears at the beginning of the input."
   ]
  },
  {
   "cell_type": "code",
   "execution_count": 43,
   "metadata": {
    "collapsed": false
   },
   "outputs": [
    {
     "name": "stdout",
     "output_type": "stream",
     "text": [
      "example.json\n",
      "json.ipynb\n"
     ]
    }
   ],
   "source": [
    "!ls"
   ]
  },
  {
   "cell_type": "code",
   "execution_count": 47,
   "metadata": {
    "collapsed": false
   },
   "outputs": [
    {
     "name": "stdout",
     "output_type": "stream",
     "text": [
      "[\n",
      "    {\n",
      "        \"a\": \"A\",\n",
      "        \"c\": 3.0,\n",
      "        \"b\": [\n",
      "            2,\n",
      "            4\n",
      "        ]\n",
      "    }\n",
      "]\n"
     ]
    }
   ],
   "source": [
    "# shows the data reformatted in order\n",
    "! python -m json.tool example.json"
   ]
  },
  {
   "cell_type": "code",
   "execution_count": 49,
   "metadata": {
    "collapsed": false
   },
   "outputs": [
    {
     "name": "stdout",
     "output_type": "stream",
     "text": [
      "[\n",
      "    {\n",
      "        \"a\": \"A\",\n",
      "        \"b\": [\n",
      "            2,\n",
      "            4\n",
      "        ],\n",
      "        \"c\": 3.0\n",
      "    }\n",
      "]\n"
     ]
    }
   ],
   "source": [
    "# ses --sort-keys to sort the mapping keys before printing the output.\n",
    "! python -m json.tool --sort-keys example.json"
   ]
  },
  {
   "cell_type": "code",
   "execution_count": null,
   "metadata": {
    "collapsed": true
   },
   "outputs": [],
   "source": []
  }
 ],
 "metadata": {
  "kernelspec": {
   "display_name": "Python 3",
   "language": "python",
   "name": "python3"
  },
  "language_info": {
   "codemirror_mode": {
    "name": "ipython",
    "version": 3
   },
   "file_extension": ".py",
   "mimetype": "text/x-python",
   "name": "python",
   "nbconvert_exporter": "python",
   "pygments_lexer": "ipython3",
   "version": "3.6.0"
  }
 },
 "nbformat": 4,
 "nbformat_minor": 2
}
